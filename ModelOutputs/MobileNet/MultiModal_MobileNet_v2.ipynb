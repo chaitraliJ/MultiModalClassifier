{
  "nbformat": 4,
  "nbformat_minor": 0,
  "metadata": {
    "colab": {
      "name": "MultiModal - MobileNet_v2.ipynb",
      "provenance": [],
      "collapsed_sections": []
    },
    "kernelspec": {
      "display_name": "Python 3",
      "name": "python3"
    },
    "language_info": {
      "name": "python"
    },
    "accelerator": "GPU"
  },
  "cells": [
    {
      "cell_type": "code",
      "metadata": {
        "colab": {
          "base_uri": "https://localhost:8080/"
        },
        "id": "4ACQ4uhQSV4w",
        "outputId": "2ea20daf-5295-4373-ac72-27569f18fb52"
      },
      "source": [
        "from google.colab import drive\n",
        "drive.mount('/content/drive')"
      ],
      "execution_count": null,
      "outputs": [
        {
          "output_type": "stream",
          "name": "stdout",
          "text": [
            "Mounted at /content/drive\n"
          ]
        }
      ]
    },
    {
      "cell_type": "code",
      "metadata": {
        "colab": {
          "base_uri": "https://localhost:8080/"
        },
        "id": "CQG2y6OfSiaQ",
        "outputId": "e8fe0fde-0c9b-436c-9726-f69e1579fcd0"
      },
      "source": [
        "!unzip /content/drive/MyDrive/\"Colab Notebooks\"/MultiModalClassifier-main.zip -d /content/drive/MyDrive/\"Colab Notebooks\"/MultiModal/"
      ],
      "execution_count": null,
      "outputs": [
        {
          "name": "stdout",
          "output_type": "stream",
          "text": [
            "Archive:  /content/drive/MyDrive/Colab Notebooks/MultiModalClassifier-main.zip\n",
            "d0daed3d586a4b29706e581cc646f70289d5b5ad\n",
            "   creating: /content/drive/MyDrive/Colab Notebooks/MultiModal/MultiModalClassifier-main/\n",
            "  inflating: /content/drive/MyDrive/Colab Notebooks/MultiModal/MultiModalClassifier-main/.gitignore  \n",
            "   creating: /content/drive/MyDrive/Colab Notebooks/MultiModal/MultiModalClassifier-main/.vscode/\n",
            "  inflating: /content/drive/MyDrive/Colab Notebooks/MultiModal/MultiModalClassifier-main/.vscode/settings.json  \n",
            "   creating: /content/drive/MyDrive/Colab Notebooks/MultiModal/MultiModalClassifier-main/DatasetTools/\n",
            "  inflating: /content/drive/MyDrive/Colab Notebooks/MultiModal/MultiModalClassifier-main/DatasetTools/annotatebymovefile.py  \n",
            "  inflating: /content/drive/MyDrive/Colab Notebooks/MultiModal/MultiModalClassifier-main/DatasetTools/cutvideostoframes.py  \n",
            "  inflating: /content/drive/MyDrive/Colab Notebooks/MultiModal/MultiModalClassifier-main/DatasetTools/generateTFrecordfile.py  \n",
            "  inflating: /content/drive/MyDrive/Colab Notebooks/MultiModal/MultiModalClassifier-main/DatasetTools/getcatdogdataset.py  \n",
            "  inflating: /content/drive/MyDrive/Colab Notebooks/MultiModal/MultiModalClassifier-main/DatasetTools/getflowerdataset.py  \n",
            "  inflating: /content/drive/MyDrive/Colab Notebooks/MultiModal/MultiModalClassifier-main/DatasetTools/getflowertraintestdataset.py  \n",
            "  inflating: /content/drive/MyDrive/Colab Notebooks/MultiModal/MultiModalClassifier-main/DatasetTools/kaggledatasetdownloader.py  \n",
            "  inflating: /content/drive/MyDrive/Colab Notebooks/MultiModal/MultiModalClassifier-main/DatasetTools/myYoutubeDownloader.py  \n",
            "  inflating: /content/drive/MyDrive/Colab Notebooks/MultiModal/MultiModalClassifier-main/DatasetTools/videotoimage.sh  \n",
            "  inflating: /content/drive/MyDrive/Colab Notebooks/MultiModal/MultiModalClassifier-main/LICENSE  \n",
            "  inflating: /content/drive/MyDrive/Colab Notebooks/MultiModal/MultiModalClassifier-main/README.md  \n",
            "   creating: /content/drive/MyDrive/Colab Notebooks/MultiModal/MultiModalClassifier-main/TFClassifier/\n",
            "   creating: /content/drive/MyDrive/Colab Notebooks/MultiModal/MultiModalClassifier-main/TFClassifier/Datasetutil/\n",
            "  inflating: /content/drive/MyDrive/Colab Notebooks/MultiModal/MultiModalClassifier-main/TFClassifier/Datasetutil/TFdatacustompipeline.py  \n",
            "  inflating: /content/drive/MyDrive/Colab Notebooks/MultiModal/MultiModalClassifier-main/TFClassifier/Datasetutil/TFdatasetutil.py  \n",
            "  inflating: /content/drive/MyDrive/Colab Notebooks/MultiModal/MultiModalClassifier-main/TFClassifier/Datasetutil/Visutil.py  \n",
            " extracting: /content/drive/MyDrive/Colab Notebooks/MultiModal/MultiModalClassifier-main/TFClassifier/Datasetutil/__init__.py  \n",
            " extracting: /content/drive/MyDrive/Colab Notebooks/MultiModal/MultiModalClassifier-main/TFClassifier/__init__.py  \n",
            "  inflating: /content/drive/MyDrive/Colab Notebooks/MultiModal/MultiModalClassifier-main/TFClassifier/exportTFlite.py  \n",
            "  inflating: /content/drive/MyDrive/Colab Notebooks/MultiModal/MultiModalClassifier-main/TFClassifier/myTFDistributedCustomTrainer.py  \n",
            "  inflating: /content/drive/MyDrive/Colab Notebooks/MultiModal/MultiModalClassifier-main/TFClassifier/myTFDistributedTrainer.py  \n",
            "  inflating: /content/drive/MyDrive/Colab Notebooks/MultiModal/MultiModalClassifier-main/TFClassifier/myTFDistributedTrainerv2.py  \n",
            "  inflating: /content/drive/MyDrive/Colab Notebooks/MultiModal/MultiModalClassifier-main/TFClassifier/myTFInference.py  \n",
            "  inflating: /content/drive/MyDrive/Colab Notebooks/MultiModal/MultiModalClassifier-main/TFClassifier/myTFloadcheckpoint.py  \n",
            "   creating: /content/drive/MyDrive/Colab Notebooks/MultiModal/MultiModalClassifier-main/TFClassifier/myTFmodels/\n",
            "  inflating: /content/drive/MyDrive/Colab Notebooks/MultiModal/MultiModalClassifier-main/TFClassifier/myTFmodels/CNNsimplemodels.py  \n",
            " extracting: /content/drive/MyDrive/Colab Notebooks/MultiModal/MultiModalClassifier-main/TFClassifier/myTFmodels/__init__.py  \n",
            "  inflating: /content/drive/MyDrive/Colab Notebooks/MultiModal/MultiModalClassifier-main/TFClassifier/myTFmodels/optimizer_factory.py  \n",
            "   creating: /content/drive/MyDrive/Colab Notebooks/MultiModal/MultiModalClassifier-main/TorchClassifier/\n",
            "   creating: /content/drive/MyDrive/Colab Notebooks/MultiModal/MultiModalClassifier-main/TorchClassifier/Datasetutil/\n",
            "  inflating: /content/drive/MyDrive/Colab Notebooks/MultiModal/MultiModalClassifier-main/TorchClassifier/Datasetutil/Torchdatasetutil.py  \n",
            "  inflating: /content/drive/MyDrive/Colab Notebooks/MultiModal/MultiModalClassifier-main/TorchClassifier/Datasetutil/Visutil.py  \n",
            "  inflating: /content/drive/MyDrive/Colab Notebooks/MultiModal/MultiModalClassifier-main/TorchClassifier/myTorchDistributedTrainer.py  \n",
            "  inflating: /content/drive/MyDrive/Colab Notebooks/MultiModal/MultiModalClassifier-main/TorchClassifier/myTorchEvaluator.py  \n",
            "   creating: /content/drive/MyDrive/Colab Notebooks/MultiModal/MultiModalClassifier-main/TorchClassifier/myTorchModels/\n",
            "  inflating: /content/drive/MyDrive/Colab Notebooks/MultiModal/MultiModalClassifier-main/TorchClassifier/myTorchModels/CustomResNet.py  \n",
            "  inflating: /content/drive/MyDrive/Colab Notebooks/MultiModal/MultiModalClassifier-main/TorchClassifier/myTorchModels/TorchCNNmodels.py  \n",
            "  inflating: /content/drive/MyDrive/Colab Notebooks/MultiModal/MultiModalClassifier-main/TorchClassifier/myTorchModels/TorchLearningratescheduler.py  \n",
            "  inflating: /content/drive/MyDrive/Colab Notebooks/MultiModal/MultiModalClassifier-main/TorchClassifier/myTorchModels/TorchOptim.py  \n",
            "  inflating: /content/drive/MyDrive/Colab Notebooks/MultiModal/MultiModalClassifier-main/TorchClassifier/myTorchTrainer.py  \n",
            "  inflating: /content/drive/MyDrive/Colab Notebooks/MultiModal/MultiModalClassifier-main/converted_model.tflite  \n",
            "  inflating: /content/drive/MyDrive/Colab Notebooks/MultiModal/MultiModalClassifier-main/myTFclassifier.py  \n",
            "  inflating: /content/drive/MyDrive/Colab Notebooks/MultiModal/MultiModalClassifier-main/setup.py  \n",
            "   creating: /content/drive/MyDrive/Colab Notebooks/MultiModal/MultiModalClassifier-main/tests/\n",
            "   creating: /content/drive/MyDrive/Colab Notebooks/MultiModal/MultiModalClassifier-main/tests/imgdata/\n",
            "  inflating: /content/drive/MyDrive/Colab Notebooks/MultiModal/MultiModalClassifier-main/tests/imgdata/rose.jpeg  \n",
            "  inflating: /content/drive/MyDrive/Colab Notebooks/MultiModal/MultiModalClassifier-main/tests/imgdata/rose2.jpeg  \n",
            "  inflating: /content/drive/MyDrive/Colab Notebooks/MultiModal/MultiModalClassifier-main/tests/imgdata/sunflower.jpeg  \n"
          ]
        }
      ]
    },
    {
      "cell_type": "code",
      "metadata": {
        "colab": {
          "base_uri": "https://localhost:8080/"
        },
        "id": "9hdNMEGrS6_u",
        "outputId": "e823c01d-966a-41a1-d587-a75ba9892087"
      },
      "source": [
        "%cd /content/drive/MyDrive/Colab Notebooks/MultiModal/MultiModalClassifier-main"
      ],
      "execution_count": null,
      "outputs": [
        {
          "output_type": "stream",
          "name": "stdout",
          "text": [
            "/content/drive/MyDrive/Colab Notebooks/MultiModal/MultiModalClassifier-main\n"
          ]
        }
      ]
    },
    {
      "cell_type": "code",
      "metadata": {
        "colab": {
          "base_uri": "https://localhost:8080/"
        },
        "id": "q2Pd5ZiETaqK",
        "outputId": "f1bb05ab-4b0a-4a39-c2d3-05ef94a906e5"
      },
      "source": [
        "%ls"
      ],
      "execution_count": null,
      "outputs": [
        {
          "output_type": "stream",
          "name": "stdout",
          "text": [
            "converted_model.tflite    \u001b[0m\u001b[01;34mMultimodalClassifier.egg-info\u001b[0m/  \u001b[01;34mtests\u001b[0m/\n",
            "\u001b[01;34mDatasetTools\u001b[0m/             myTFclassifier.py               \u001b[01;34mTFClassifier\u001b[0m/\n",
            "\u001b[01;34mImageClassificationData\u001b[0m/  README.md                       \u001b[01;34mTorchClassifier\u001b[0m/\n",
            "LICENSE                   setup.py\n"
          ]
        }
      ]
    },
    {
      "cell_type": "code",
      "metadata": {
        "colab": {
          "base_uri": "https://localhost:8080/"
        },
        "id": "Fn6i7b2ETb3M",
        "outputId": "ed29d546-e5d1-49ea-aeff-0ab39a0afb3f"
      },
      "source": [
        "!python setup.py develop"
      ],
      "execution_count": null,
      "outputs": [
        {
          "output_type": "stream",
          "name": "stdout",
          "text": [
            "running develop\n",
            "running egg_info\n",
            "writing MultimodalClassifier.egg-info/PKG-INFO\n",
            "writing dependency_links to MultimodalClassifier.egg-info/dependency_links.txt\n",
            "writing requirements to MultimodalClassifier.egg-info/requires.txt\n",
            "writing top-level names to MultimodalClassifier.egg-info/top_level.txt\n",
            "reading manifest file 'MultimodalClassifier.egg-info/SOURCES.txt'\n",
            "adding license file 'LICENSE'\n",
            "writing manifest file 'MultimodalClassifier.egg-info/SOURCES.txt'\n",
            "running build_ext\n",
            "Creating /usr/local/lib/python3.7/dist-packages/MultimodalClassifier.egg-link (link to .)\n",
            "Adding MultimodalClassifier 0.0.1 to easy-install.pth file\n",
            "\n",
            "Installed /content/drive/MyDrive/Colab Notebooks/MultiModal/MultiModalClassifier-main\n",
            "Processing dependencies for MultimodalClassifier==0.0.1\n",
            "Searching for numpy==1.19.5\n",
            "Best match: numpy 1.19.5\n",
            "Adding numpy 1.19.5 to easy-install.pth file\n",
            "Installing f2py script to /usr/local/bin\n",
            "Installing f2py3 script to /usr/local/bin\n",
            "Installing f2py3.7 script to /usr/local/bin\n",
            "\n",
            "Using /usr/local/lib/python3.7/dist-packages\n",
            "Finished processing dependencies for MultimodalClassifier==0.0.1\n"
          ]
        }
      ]
    },
    {
      "cell_type": "code",
      "metadata": {
        "colab": {
          "base_uri": "https://localhost:8080/"
        },
        "id": "5lyqyguPYpBZ",
        "outputId": "edbf071a-c0c4-494c-b00c-f841088efcd0"
      },
      "source": [
        "pip install configargparse"
      ],
      "execution_count": null,
      "outputs": [
        {
          "output_type": "stream",
          "name": "stdout",
          "text": [
            "Collecting configargparse\n",
            "  Downloading ConfigArgParse-1.5.3-py3-none-any.whl (20 kB)\n",
            "Installing collected packages: configargparse\n",
            "Successfully installed configargparse-1.5.3\n"
          ]
        }
      ]
    },
    {
      "cell_type": "code",
      "metadata": {
        "colab": {
          "base_uri": "https://localhost:8080/"
        },
        "id": "TM2Gw-Aldcwx",
        "outputId": "6455e0b9-a943-4193-9c49-08de8485315b"
      },
      "source": [
        "%cd TorchClassifier/"
      ],
      "execution_count": null,
      "outputs": [
        {
          "output_type": "stream",
          "name": "stdout",
          "text": [
            "/content/drive/My Drive/Colab Notebooks/MultiModal/MultiModalClassifier-main/TorchClassifier\n"
          ]
        }
      ]
    },
    {
      "cell_type": "code",
      "metadata": {
        "colab": {
          "base_uri": "https://localhost:8080/"
        },
        "id": "X0G4yqT8ivg6",
        "outputId": "c19db926-2a21-4a94-8367-c9feb106f388"
      },
      "source": [
        "!python myTorchTrainer.py --TAG 123 --epochs 50"
      ],
      "execution_count": null,
      "outputs": [
        {
          "output_type": "stream",
          "name": "stdout",
          "text": [
            "1.9.0+cu102\n",
            "Torch Version:  1.9.0+cu102\n",
            "Torchvision Version:  0.10.0+cu102\n",
            "Output path: ./outputs/CIFAR10_mobilenet_123\n",
            "Num GPUs: 1\n",
            "0\n",
            "Tesla K80\n",
            "True\n",
            "Files already downloaded and verified\n",
            "Files already downloaded and verified\n",
            "Number of training examples: 50000\n",
            "Number of testing examples: 10000\n",
            "Downloading: \"https://download.pytorch.org/models/mobilenet_v2-b0353104.pth\" to /root/.cache/torch/hub/checkpoints/mobilenet_v2-b0353104.pth\n",
            "100% 13.6M/13.6M [00:00<00:00, 50.3MB/s]\n",
            "Epoch 0/49\n",
            "----------\n",
            "train Loss: 1.5300 Acc: 0.5370\n",
            "val Loss: 0.9264 Acc: 0.6761\n",
            "\n",
            "Epoch 1/49\n",
            "----------\n",
            "train Loss: 0.9213 Acc: 0.6821\n",
            "val Loss: 0.7449 Acc: 0.7406\n",
            "\n",
            "Epoch 2/49\n",
            "----------\n",
            "train Loss: 0.7537 Acc: 0.7411\n",
            "val Loss: 0.6873 Acc: 0.7574\n",
            "\n",
            "Epoch 3/49\n",
            "----------\n",
            "train Loss: 0.6667 Acc: 0.7719\n",
            "val Loss: 0.6581 Acc: 0.7697\n",
            "\n",
            "Epoch 4/49\n",
            "----------\n",
            "train Loss: 0.5989 Acc: 0.7930\n",
            "val Loss: 0.6241 Acc: 0.7798\n",
            "\n",
            "Epoch 5/49\n",
            "----------\n",
            "train Loss: 0.5390 Acc: 0.8111\n",
            "val Loss: 0.6618 Acc: 0.7810\n",
            "\n",
            "Epoch 6/49\n",
            "----------\n",
            "train Loss: 0.4891 Acc: 0.8288\n",
            "val Loss: 0.6242 Acc: 0.7807\n",
            "\n",
            "Epoch 7/49\n",
            "----------\n",
            "train Loss: 0.4618 Acc: 0.8393\n",
            "val Loss: 0.5750 Acc: 0.8034\n",
            "\n",
            "Epoch 8/49\n",
            "----------\n",
            "train Loss: 0.4196 Acc: 0.8542\n",
            "val Loss: 0.5778 Acc: 0.8032\n",
            "\n",
            "Epoch 9/49\n",
            "----------\n",
            "train Loss: 0.3991 Acc: 0.8597\n",
            "val Loss: 0.5818 Acc: 0.8034\n",
            "\n",
            "Epoch 10/49\n",
            "----------\n",
            "train Loss: 0.3617 Acc: 0.8731\n",
            "val Loss: 0.6705 Acc: 0.7808\n",
            "\n",
            "Epoch 11/49\n",
            "----------\n",
            "train Loss: 0.3373 Acc: 0.8811\n",
            "val Loss: 0.6148 Acc: 0.7967\n",
            "\n",
            "Epoch 12/49\n",
            "----------\n",
            "train Loss: 0.3365 Acc: 0.8816\n",
            "val Loss: 0.6486 Acc: 0.7999\n",
            "\n",
            "Epoch 13/49\n",
            "----------\n",
            "train Loss: 0.3050 Acc: 0.8928\n",
            "val Loss: 0.5833 Acc: 0.8090\n",
            "\n",
            "Epoch 14/49\n",
            "----------\n",
            "train Loss: 0.2794 Acc: 0.9009\n",
            "val Loss: 0.6582 Acc: 0.7943\n",
            "\n",
            "Epoch 15/49\n",
            "----------\n",
            "train Loss: 0.2739 Acc: 0.9040\n",
            "val Loss: 0.6065 Acc: 0.8063\n",
            "\n",
            "Epoch 16/49\n",
            "----------\n",
            "train Loss: 0.2526 Acc: 0.9100\n",
            "val Loss: 0.6274 Acc: 0.8030\n",
            "\n",
            "Epoch 17/49\n",
            "----------\n",
            "train Loss: 0.2377 Acc: 0.9156\n",
            "val Loss: 0.5977 Acc: 0.8120\n",
            "\n",
            "Epoch 18/49\n",
            "----------\n",
            "train Loss: 0.2186 Acc: 0.9208\n",
            "val Loss: 0.6725 Acc: 0.8020\n",
            "\n",
            "Epoch 19/49\n",
            "----------\n",
            "train Loss: 0.2125 Acc: 0.9253\n",
            "val Loss: 0.6491 Acc: 0.8038\n",
            "\n",
            "Epoch 20/49\n",
            "----------\n",
            "train Loss: 0.1988 Acc: 0.9300\n",
            "val Loss: 0.6365 Acc: 0.8094\n",
            "\n",
            "Epoch 21/49\n",
            "----------\n",
            "train Loss: 0.1815 Acc: 0.9352\n",
            "val Loss: 0.6927 Acc: 0.8002\n",
            "\n",
            "Epoch 22/49\n",
            "----------\n",
            "train Loss: 0.1647 Acc: 0.9427\n",
            "val Loss: 0.7231 Acc: 0.8002\n",
            "\n",
            "Epoch 23/49\n",
            "----------\n",
            "train Loss: 0.1581 Acc: 0.9431\n",
            "val Loss: 0.6757 Acc: 0.8101\n",
            "\n",
            "Epoch 24/49\n",
            "----------\n",
            "train Loss: 0.1553 Acc: 0.9455\n",
            "val Loss: 0.6691 Acc: 0.8100\n",
            "\n",
            "Epoch 25/49\n",
            "----------\n",
            "train Loss: 0.1571 Acc: 0.9445\n",
            "val Loss: 0.7925 Acc: 0.7956\n",
            "\n",
            "Epoch 26/49\n",
            "----------\n",
            "train Loss: 0.1384 Acc: 0.9521\n",
            "val Loss: 0.7325 Acc: 0.8062\n",
            "\n",
            "Epoch 27/49\n",
            "----------\n",
            "train Loss: 0.1717 Acc: 0.9410\n",
            "val Loss: 0.6575 Acc: 0.8164\n",
            "\n",
            "Epoch 28/49\n",
            "----------\n",
            "train Loss: 0.1407 Acc: 0.9511\n",
            "val Loss: 0.6760 Acc: 0.8193\n",
            "\n",
            "Epoch 29/49\n",
            "----------\n",
            "train Loss: 0.1269 Acc: 0.9558\n",
            "val Loss: 0.7070 Acc: 0.8143\n",
            "\n",
            "Epoch 30/49\n",
            "----------\n",
            "train Loss: 0.0693 Acc: 0.9767\n",
            "val Loss: 0.6990 Acc: 0.8222\n",
            "\n",
            "Epoch 31/49\n",
            "----------\n",
            "train Loss: 0.0510 Acc: 0.9835\n",
            "val Loss: 0.7218 Acc: 0.8241\n",
            "\n",
            "Epoch 32/49\n",
            "----------\n",
            "train Loss: 0.0417 Acc: 0.9869\n",
            "val Loss: 0.7202 Acc: 0.8286\n",
            "\n",
            "Epoch 33/49\n",
            "----------\n",
            "train Loss: 0.0373 Acc: 0.9874\n",
            "val Loss: 0.7529 Acc: 0.8296\n",
            "\n",
            "Epoch 34/49\n",
            "----------\n",
            "train Loss: 0.0308 Acc: 0.9906\n",
            "val Loss: 0.8087 Acc: 0.8259\n",
            "\n",
            "Epoch 35/49\n",
            "----------\n",
            "train Loss: 0.0288 Acc: 0.9909\n",
            "val Loss: 0.8301 Acc: 0.8229\n",
            "\n",
            "Epoch 36/49\n",
            "----------\n",
            "train Loss: 0.0280 Acc: 0.9908\n",
            "val Loss: 0.8060 Acc: 0.8287\n",
            "\n",
            "Epoch 37/49\n",
            "----------\n",
            "train Loss: 0.0248 Acc: 0.9924\n",
            "val Loss: 0.8834 Acc: 0.8167\n",
            "\n",
            "Epoch 38/49\n",
            "----------\n",
            "train Loss: 0.0257 Acc: 0.9914\n",
            "val Loss: 0.8394 Acc: 0.8245\n",
            "\n",
            "Epoch 39/49\n",
            "----------\n",
            "train Loss: 0.0239 Acc: 0.9918\n",
            "val Loss: 0.8344 Acc: 0.8296\n",
            "\n",
            "Epoch 40/49\n",
            "----------\n",
            "train Loss: 0.0221 Acc: 0.9929\n",
            "val Loss: 0.8539 Acc: 0.8241\n",
            "\n",
            "Epoch 41/49\n",
            "----------\n",
            "train Loss: 0.0220 Acc: 0.9930\n",
            "val Loss: 0.8541 Acc: 0.8270\n",
            "\n",
            "Epoch 42/49\n",
            "----------\n",
            "train Loss: 0.0204 Acc: 0.9939\n",
            "val Loss: 0.8656 Acc: 0.8271\n",
            "\n",
            "Epoch 43/49\n",
            "----------\n",
            "train Loss: 0.0196 Acc: 0.9940\n",
            "val Loss: 0.8405 Acc: 0.8305\n",
            "\n",
            "Epoch 44/49\n",
            "----------\n",
            "train Loss: 0.0187 Acc: 0.9943\n",
            "val Loss: 0.8749 Acc: 0.8249\n",
            "\n",
            "Epoch 45/49\n",
            "----------\n",
            "train Loss: 0.0176 Acc: 0.9943\n",
            "val Loss: 0.8758 Acc: 0.8271\n",
            "\n",
            "Epoch 46/49\n",
            "----------\n",
            "train Loss: 0.0162 Acc: 0.9946\n",
            "val Loss: 0.8903 Acc: 0.8285\n",
            "\n",
            "Epoch 47/49\n",
            "----------\n",
            "train Loss: 0.0173 Acc: 0.9947\n",
            "val Loss: 0.8947 Acc: 0.8248\n",
            "\n",
            "Epoch 48/49\n",
            "----------\n",
            "train Loss: 0.0155 Acc: 0.9949\n",
            "val Loss: 0.8917 Acc: 0.8277\n",
            "\n",
            "Epoch 49/49\n",
            "----------\n",
            "train Loss: 0.0168 Acc: 0.9944\n",
            "val Loss: 0.9021 Acc: 0.8249\n",
            "\n",
            "Training complete in 52m 9s\n",
            "Best val Acc: 0.830500\n",
            "<Figure size 2500x400 with 20 Axes>\n",
            "<Figure size 640x480 with 1 Axes>\n",
            "<Figure size 1000x1000 with 1 Axes>\n",
            "<Figure size 640x480 with 1 Axes>\n",
            "<Figure size 1000x1000 with 1 Axes>\n",
            "<Figure size 640x480 with 1 Axes>\n",
            "<Figure size 1000x1000 with 1 Axes>\n",
            "<Figure size 640x480 with 1 Axes>\n",
            "<Figure size 1000x1000 with 1 Axes>\n",
            "<Figure size 640x480 with 1 Axes>\n",
            "<Figure size 1000x1000 with 1 Axes>\n",
            "<Figure size 640x480 with 1 Axes>\n",
            "<Figure size 1000x1000 with 1 Axes>\n"
          ]
        }
      ]
    },
    {
      "cell_type": "code",
      "metadata": {
        "id": "U5oFJeWCi1DF",
        "colab": {
          "base_uri": "https://localhost:8080/"
        },
        "outputId": "05e4c9fa-5cd4-4057-f970-317e7fb91f5a"
      },
      "source": [
        "!python myTorchEvaluator.py --TAG 123 --save_path /content/drive/MyDrive/\"Colab Notebooks\"/MultiModal/MultiModalClassifier-main/TorchClassifier/outputs/ "
      ],
      "execution_count": null,
      "outputs": [
        {
          "output_type": "stream",
          "name": "stdout",
          "text": [
            "1.9.0+cu102\n",
            "Torch Version:  1.9.0+cu102\n",
            "Torchvision Version:  0.10.0+cu102\n",
            "Output path: /content/drive/MyDrive/Colab Notebooks/MultiModal/MultiModalClassifier-main/TorchClassifier/outputs/CIFAR10_mobilenet_123\n",
            "Num GPUs: 1\n",
            "0\n",
            "Tesla K80\n",
            "True\n",
            "Files already downloaded and verified\n",
            "Files already downloaded and verified\n",
            "Number of training examples: 50000\n",
            "Number of testing examples: 10000\n",
            "modelpath  /content/drive/MyDrive/Colab Notebooks/MultiModal/MultiModalClassifier-main/TorchClassifier/outputs/CIFAR10_mobilenet_123/model_best.pt\n",
            "Test Loss: 0.873302\n",
            "\n",
            "Test Accuracy of airplane: 81% (818/1000)\n",
            "Test Accuracy of automobile: 90% (903/1000)\n",
            "Test Accuracy of  bird: 81% (813/1000)\n",
            "Test Accuracy of   cat: 63% (637/1000)\n",
            "Test Accuracy of  deer: 81% (817/1000)\n",
            "Test Accuracy of   dog: 72% (723/1000)\n",
            "Test Accuracy of  frog: 89% (892/1000)\n",
            "Test Accuracy of horse: 86% (861/1000)\n",
            "Test Accuracy of  ship: 88% (885/1000)\n",
            "Test Accuracy of truck: 88% (886/1000)\n",
            "\n",
            "Test Accuracy (Overall): 82% (8235/10000)\n",
            "Test Loss: 0.874 | Test Acc: 82.34%\n"
          ]
        }
      ]
    },
    {
      "cell_type": "code",
      "metadata": {
        "id": "sGTT06mxybVL"
      },
      "source": [
        ""
      ],
      "execution_count": null,
      "outputs": []
    }
  ]
}