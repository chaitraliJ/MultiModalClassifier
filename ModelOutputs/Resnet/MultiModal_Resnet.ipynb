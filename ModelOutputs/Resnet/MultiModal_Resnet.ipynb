{
  "nbformat": 4,
  "nbformat_minor": 0,
  "metadata": {
    "colab": {
      "name": "MultiModal-Resnet.ipynb",
      "provenance": [],
      "collapsed_sections": []
    },
    "kernelspec": {
      "display_name": "Python 3",
      "name": "python3"
    },
    "language_info": {
      "name": "python"
    },
    "accelerator": "GPU"
  },
  "cells": [
    {
      "cell_type": "code",
      "metadata": {
        "colab": {
          "base_uri": "https://localhost:8080/"
        },
        "id": "4ACQ4uhQSV4w",
        "outputId": "2ea20daf-5295-4373-ac72-27569f18fb52"
      },
      "source": [
        "from google.colab import drive\n",
        "drive.mount('/content/drive')"
      ],
      "execution_count": null,
      "outputs": [
        {
          "output_type": "stream",
          "name": "stdout",
          "text": [
            "Mounted at /content/drive\n"
          ]
        }
      ]
    },
    {
      "cell_type": "code",
      "metadata": {
        "colab": {
          "base_uri": "https://localhost:8080/"
        },
        "id": "CQG2y6OfSiaQ",
        "outputId": "e8fe0fde-0c9b-436c-9726-f69e1579fcd0"
      },
      "source": [
        "!unzip /content/drive/MyDrive/\"Colab Notebooks\"/MultiModalClassifier-main.zip -d /content/drive/MyDrive/\"Colab Notebooks\"/MultiModal/"
      ],
      "execution_count": null,
      "outputs": [
        {
          "name": "stdout",
          "output_type": "stream",
          "text": [
            "Archive:  /content/drive/MyDrive/Colab Notebooks/MultiModalClassifier-main.zip\n",
            "d0daed3d586a4b29706e581cc646f70289d5b5ad\n",
            "   creating: /content/drive/MyDrive/Colab Notebooks/MultiModal/MultiModalClassifier-main/\n",
            "  inflating: /content/drive/MyDrive/Colab Notebooks/MultiModal/MultiModalClassifier-main/.gitignore  \n",
            "   creating: /content/drive/MyDrive/Colab Notebooks/MultiModal/MultiModalClassifier-main/.vscode/\n",
            "  inflating: /content/drive/MyDrive/Colab Notebooks/MultiModal/MultiModalClassifier-main/.vscode/settings.json  \n",
            "   creating: /content/drive/MyDrive/Colab Notebooks/MultiModal/MultiModalClassifier-main/DatasetTools/\n",
            "  inflating: /content/drive/MyDrive/Colab Notebooks/MultiModal/MultiModalClassifier-main/DatasetTools/annotatebymovefile.py  \n",
            "  inflating: /content/drive/MyDrive/Colab Notebooks/MultiModal/MultiModalClassifier-main/DatasetTools/cutvideostoframes.py  \n",
            "  inflating: /content/drive/MyDrive/Colab Notebooks/MultiModal/MultiModalClassifier-main/DatasetTools/generateTFrecordfile.py  \n",
            "  inflating: /content/drive/MyDrive/Colab Notebooks/MultiModal/MultiModalClassifier-main/DatasetTools/getcatdogdataset.py  \n",
            "  inflating: /content/drive/MyDrive/Colab Notebooks/MultiModal/MultiModalClassifier-main/DatasetTools/getflowerdataset.py  \n",
            "  inflating: /content/drive/MyDrive/Colab Notebooks/MultiModal/MultiModalClassifier-main/DatasetTools/getflowertraintestdataset.py  \n",
            "  inflating: /content/drive/MyDrive/Colab Notebooks/MultiModal/MultiModalClassifier-main/DatasetTools/kaggledatasetdownloader.py  \n",
            "  inflating: /content/drive/MyDrive/Colab Notebooks/MultiModal/MultiModalClassifier-main/DatasetTools/myYoutubeDownloader.py  \n",
            "  inflating: /content/drive/MyDrive/Colab Notebooks/MultiModal/MultiModalClassifier-main/DatasetTools/videotoimage.sh  \n",
            "  inflating: /content/drive/MyDrive/Colab Notebooks/MultiModal/MultiModalClassifier-main/LICENSE  \n",
            "  inflating: /content/drive/MyDrive/Colab Notebooks/MultiModal/MultiModalClassifier-main/README.md  \n",
            "   creating: /content/drive/MyDrive/Colab Notebooks/MultiModal/MultiModalClassifier-main/TFClassifier/\n",
            "   creating: /content/drive/MyDrive/Colab Notebooks/MultiModal/MultiModalClassifier-main/TFClassifier/Datasetutil/\n",
            "  inflating: /content/drive/MyDrive/Colab Notebooks/MultiModal/MultiModalClassifier-main/TFClassifier/Datasetutil/TFdatacustompipeline.py  \n",
            "  inflating: /content/drive/MyDrive/Colab Notebooks/MultiModal/MultiModalClassifier-main/TFClassifier/Datasetutil/TFdatasetutil.py  \n",
            "  inflating: /content/drive/MyDrive/Colab Notebooks/MultiModal/MultiModalClassifier-main/TFClassifier/Datasetutil/Visutil.py  \n",
            " extracting: /content/drive/MyDrive/Colab Notebooks/MultiModal/MultiModalClassifier-main/TFClassifier/Datasetutil/__init__.py  \n",
            " extracting: /content/drive/MyDrive/Colab Notebooks/MultiModal/MultiModalClassifier-main/TFClassifier/__init__.py  \n",
            "  inflating: /content/drive/MyDrive/Colab Notebooks/MultiModal/MultiModalClassifier-main/TFClassifier/exportTFlite.py  \n",
            "  inflating: /content/drive/MyDrive/Colab Notebooks/MultiModal/MultiModalClassifier-main/TFClassifier/myTFDistributedCustomTrainer.py  \n",
            "  inflating: /content/drive/MyDrive/Colab Notebooks/MultiModal/MultiModalClassifier-main/TFClassifier/myTFDistributedTrainer.py  \n",
            "  inflating: /content/drive/MyDrive/Colab Notebooks/MultiModal/MultiModalClassifier-main/TFClassifier/myTFDistributedTrainerv2.py  \n",
            "  inflating: /content/drive/MyDrive/Colab Notebooks/MultiModal/MultiModalClassifier-main/TFClassifier/myTFInference.py  \n",
            "  inflating: /content/drive/MyDrive/Colab Notebooks/MultiModal/MultiModalClassifier-main/TFClassifier/myTFloadcheckpoint.py  \n",
            "   creating: /content/drive/MyDrive/Colab Notebooks/MultiModal/MultiModalClassifier-main/TFClassifier/myTFmodels/\n",
            "  inflating: /content/drive/MyDrive/Colab Notebooks/MultiModal/MultiModalClassifier-main/TFClassifier/myTFmodels/CNNsimplemodels.py  \n",
            " extracting: /content/drive/MyDrive/Colab Notebooks/MultiModal/MultiModalClassifier-main/TFClassifier/myTFmodels/__init__.py  \n",
            "  inflating: /content/drive/MyDrive/Colab Notebooks/MultiModal/MultiModalClassifier-main/TFClassifier/myTFmodels/optimizer_factory.py  \n",
            "   creating: /content/drive/MyDrive/Colab Notebooks/MultiModal/MultiModalClassifier-main/TorchClassifier/\n",
            "   creating: /content/drive/MyDrive/Colab Notebooks/MultiModal/MultiModalClassifier-main/TorchClassifier/Datasetutil/\n",
            "  inflating: /content/drive/MyDrive/Colab Notebooks/MultiModal/MultiModalClassifier-main/TorchClassifier/Datasetutil/Torchdatasetutil.py  \n",
            "  inflating: /content/drive/MyDrive/Colab Notebooks/MultiModal/MultiModalClassifier-main/TorchClassifier/Datasetutil/Visutil.py  \n",
            "  inflating: /content/drive/MyDrive/Colab Notebooks/MultiModal/MultiModalClassifier-main/TorchClassifier/myTorchDistributedTrainer.py  \n",
            "  inflating: /content/drive/MyDrive/Colab Notebooks/MultiModal/MultiModalClassifier-main/TorchClassifier/myTorchEvaluator.py  \n",
            "   creating: /content/drive/MyDrive/Colab Notebooks/MultiModal/MultiModalClassifier-main/TorchClassifier/myTorchModels/\n",
            "  inflating: /content/drive/MyDrive/Colab Notebooks/MultiModal/MultiModalClassifier-main/TorchClassifier/myTorchModels/CustomResNet.py  \n",
            "  inflating: /content/drive/MyDrive/Colab Notebooks/MultiModal/MultiModalClassifier-main/TorchClassifier/myTorchModels/TorchCNNmodels.py  \n",
            "  inflating: /content/drive/MyDrive/Colab Notebooks/MultiModal/MultiModalClassifier-main/TorchClassifier/myTorchModels/TorchLearningratescheduler.py  \n",
            "  inflating: /content/drive/MyDrive/Colab Notebooks/MultiModal/MultiModalClassifier-main/TorchClassifier/myTorchModels/TorchOptim.py  \n",
            "  inflating: /content/drive/MyDrive/Colab Notebooks/MultiModal/MultiModalClassifier-main/TorchClassifier/myTorchTrainer.py  \n",
            "  inflating: /content/drive/MyDrive/Colab Notebooks/MultiModal/MultiModalClassifier-main/converted_model.tflite  \n",
            "  inflating: /content/drive/MyDrive/Colab Notebooks/MultiModal/MultiModalClassifier-main/myTFclassifier.py  \n",
            "  inflating: /content/drive/MyDrive/Colab Notebooks/MultiModal/MultiModalClassifier-main/setup.py  \n",
            "   creating: /content/drive/MyDrive/Colab Notebooks/MultiModal/MultiModalClassifier-main/tests/\n",
            "   creating: /content/drive/MyDrive/Colab Notebooks/MultiModal/MultiModalClassifier-main/tests/imgdata/\n",
            "  inflating: /content/drive/MyDrive/Colab Notebooks/MultiModal/MultiModalClassifier-main/tests/imgdata/rose.jpeg  \n",
            "  inflating: /content/drive/MyDrive/Colab Notebooks/MultiModal/MultiModalClassifier-main/tests/imgdata/rose2.jpeg  \n",
            "  inflating: /content/drive/MyDrive/Colab Notebooks/MultiModal/MultiModalClassifier-main/tests/imgdata/sunflower.jpeg  \n"
          ]
        }
      ]
    },
    {
      "cell_type": "code",
      "metadata": {
        "colab": {
          "base_uri": "https://localhost:8080/"
        },
        "id": "9hdNMEGrS6_u",
        "outputId": "e823c01d-966a-41a1-d587-a75ba9892087"
      },
      "source": [
        "%cd /content/drive/MyDrive/Colab Notebooks/MultiModal/MultiModalClassifier-main"
      ],
      "execution_count": null,
      "outputs": [
        {
          "output_type": "stream",
          "name": "stdout",
          "text": [
            "/content/drive/MyDrive/Colab Notebooks/MultiModal/MultiModalClassifier-main\n"
          ]
        }
      ]
    },
    {
      "cell_type": "code",
      "metadata": {
        "colab": {
          "base_uri": "https://localhost:8080/"
        },
        "id": "q2Pd5ZiETaqK",
        "outputId": "f1bb05ab-4b0a-4a39-c2d3-05ef94a906e5"
      },
      "source": [
        "%ls"
      ],
      "execution_count": null,
      "outputs": [
        {
          "output_type": "stream",
          "name": "stdout",
          "text": [
            "converted_model.tflite    \u001b[0m\u001b[01;34mMultimodalClassifier.egg-info\u001b[0m/  \u001b[01;34mtests\u001b[0m/\n",
            "\u001b[01;34mDatasetTools\u001b[0m/             myTFclassifier.py               \u001b[01;34mTFClassifier\u001b[0m/\n",
            "\u001b[01;34mImageClassificationData\u001b[0m/  README.md                       \u001b[01;34mTorchClassifier\u001b[0m/\n",
            "LICENSE                   setup.py\n"
          ]
        }
      ]
    },
    {
      "cell_type": "code",
      "metadata": {
        "colab": {
          "base_uri": "https://localhost:8080/"
        },
        "id": "Fn6i7b2ETb3M",
        "outputId": "ed29d546-e5d1-49ea-aeff-0ab39a0afb3f"
      },
      "source": [
        "!python setup.py develop"
      ],
      "execution_count": null,
      "outputs": [
        {
          "output_type": "stream",
          "name": "stdout",
          "text": [
            "running develop\n",
            "running egg_info\n",
            "writing MultimodalClassifier.egg-info/PKG-INFO\n",
            "writing dependency_links to MultimodalClassifier.egg-info/dependency_links.txt\n",
            "writing requirements to MultimodalClassifier.egg-info/requires.txt\n",
            "writing top-level names to MultimodalClassifier.egg-info/top_level.txt\n",
            "reading manifest file 'MultimodalClassifier.egg-info/SOURCES.txt'\n",
            "adding license file 'LICENSE'\n",
            "writing manifest file 'MultimodalClassifier.egg-info/SOURCES.txt'\n",
            "running build_ext\n",
            "Creating /usr/local/lib/python3.7/dist-packages/MultimodalClassifier.egg-link (link to .)\n",
            "Adding MultimodalClassifier 0.0.1 to easy-install.pth file\n",
            "\n",
            "Installed /content/drive/MyDrive/Colab Notebooks/MultiModal/MultiModalClassifier-main\n",
            "Processing dependencies for MultimodalClassifier==0.0.1\n",
            "Searching for numpy==1.19.5\n",
            "Best match: numpy 1.19.5\n",
            "Adding numpy 1.19.5 to easy-install.pth file\n",
            "Installing f2py script to /usr/local/bin\n",
            "Installing f2py3 script to /usr/local/bin\n",
            "Installing f2py3.7 script to /usr/local/bin\n",
            "\n",
            "Using /usr/local/lib/python3.7/dist-packages\n",
            "Finished processing dependencies for MultimodalClassifier==0.0.1\n"
          ]
        }
      ]
    },
    {
      "cell_type": "code",
      "metadata": {
        "colab": {
          "base_uri": "https://localhost:8080/"
        },
        "id": "5lyqyguPYpBZ",
        "outputId": "edbf071a-c0c4-494c-b00c-f841088efcd0"
      },
      "source": [
        "pip install configargparse"
      ],
      "execution_count": null,
      "outputs": [
        {
          "output_type": "stream",
          "name": "stdout",
          "text": [
            "Collecting configargparse\n",
            "  Downloading ConfigArgParse-1.5.3-py3-none-any.whl (20 kB)\n",
            "Installing collected packages: configargparse\n",
            "Successfully installed configargparse-1.5.3\n"
          ]
        }
      ]
    },
    {
      "cell_type": "code",
      "metadata": {
        "colab": {
          "base_uri": "https://localhost:8080/"
        },
        "id": "TM2Gw-Aldcwx",
        "outputId": "6455e0b9-a943-4193-9c49-08de8485315b"
      },
      "source": [
        "%cd TorchClassifier/"
      ],
      "execution_count": null,
      "outputs": [
        {
          "output_type": "stream",
          "name": "stdout",
          "text": [
            "/content/drive/My Drive/Colab Notebooks/MultiModal/MultiModalClassifier-main/TorchClassifier\n"
          ]
        }
      ]
    },
    {
      "cell_type": "code",
      "metadata": {
        "colab": {
          "base_uri": "https://localhost:8080/"
        },
        "id": "X0G4yqT8ivg6",
        "outputId": "ada0044c-f0c9-4a7f-fcdf-f5d9a737ada8"
      },
      "source": [
        "!python myTorchTrainer.py --TAG 123 --epochs 40"
      ],
      "execution_count": null,
      "outputs": [
        {
          "output_type": "stream",
          "name": "stdout",
          "text": [
            "1.9.0+cu102\n",
            "Torch Version:  1.9.0+cu102\n",
            "Torchvision Version:  0.10.0+cu102\n",
            "Output path: ./outputs/CIFAR10_resnetmodel1_123\n",
            "Num GPUs: 1\n",
            "0\n",
            "Tesla K80\n",
            "True\n",
            "Files already downloaded and verified\n",
            "Files already downloaded and verified\n",
            "Number of training examples: 50000\n",
            "Number of testing examples: 10000\n",
            "Epoch 0/39\n",
            "----------\n",
            "/usr/local/lib/python3.7/dist-packages/torch/nn/functional.py:718: UserWarning: Named tensors and all their associated APIs are an experimental feature and subject to change. Please do not use them for anything important until they are released as stable. (Triggered internally at  /pytorch/c10/core/TensorImpl.h:1156.)\n",
            "  return torch.max_pool2d(input, kernel_size, stride, padding, dilation, ceil_mode)\n",
            "train Loss: 1.0703 Acc: 0.6335\n",
            "val Loss: 0.7333 Acc: 0.7488\n",
            "\n",
            "Epoch 1/39\n",
            "----------\n",
            "train Loss: 0.6851 Acc: 0.7650\n",
            "val Loss: 0.6328 Acc: 0.7821\n",
            "\n",
            "Epoch 2/39\n",
            "----------\n",
            "train Loss: 0.5267 Acc: 0.8168\n",
            "val Loss: 0.6259 Acc: 0.7851\n",
            "\n",
            "Epoch 3/39\n",
            "----------\n",
            "train Loss: 0.4244 Acc: 0.8541\n",
            "val Loss: 0.5693 Acc: 0.8082\n",
            "\n",
            "Epoch 4/39\n",
            "----------\n",
            "train Loss: 0.3458 Acc: 0.8792\n",
            "val Loss: 0.6110 Acc: 0.8037\n",
            "\n",
            "Epoch 5/39\n",
            "----------\n",
            "train Loss: 0.2839 Acc: 0.9006\n",
            "val Loss: 0.6047 Acc: 0.8132\n",
            "\n",
            "Epoch 6/39\n",
            "----------\n",
            "train Loss: 0.2320 Acc: 0.9195\n",
            "val Loss: 0.6217 Acc: 0.8131\n",
            "\n",
            "Epoch 7/39\n",
            "----------\n",
            "train Loss: 0.1903 Acc: 0.9318\n",
            "val Loss: 0.6709 Acc: 0.8091\n",
            "\n",
            "Epoch 8/39\n",
            "----------\n",
            "train Loss: 0.1670 Acc: 0.9418\n",
            "val Loss: 0.6798 Acc: 0.8147\n",
            "\n",
            "Epoch 9/39\n",
            "----------\n",
            "train Loss: 0.1408 Acc: 0.9498\n",
            "val Loss: 0.7107 Acc: 0.8149\n",
            "\n",
            "Epoch 10/39\n",
            "----------\n",
            "train Loss: 0.1243 Acc: 0.9570\n",
            "val Loss: 0.7129 Acc: 0.8136\n",
            "\n",
            "Epoch 11/39\n",
            "----------\n",
            "train Loss: 0.0982 Acc: 0.9657\n",
            "val Loss: 0.7777 Acc: 0.8178\n",
            "\n",
            "Epoch 12/39\n",
            "----------\n",
            "train Loss: 0.0970 Acc: 0.9674\n",
            "val Loss: 0.7603 Acc: 0.8157\n",
            "\n",
            "Epoch 13/39\n",
            "----------\n",
            "train Loss: 0.0810 Acc: 0.9723\n",
            "val Loss: 0.7850 Acc: 0.8161\n",
            "\n",
            "Epoch 14/39\n",
            "----------\n",
            "train Loss: 0.0767 Acc: 0.9732\n",
            "val Loss: 0.7882 Acc: 0.8178\n",
            "\n",
            "Epoch 15/39\n",
            "----------\n",
            "train Loss: 0.0645 Acc: 0.9782\n",
            "val Loss: 0.7939 Acc: 0.8185\n",
            "\n",
            "Epoch 16/39\n",
            "----------\n",
            "train Loss: 0.0591 Acc: 0.9803\n",
            "val Loss: 0.8103 Acc: 0.8207\n",
            "\n",
            "Epoch 17/39\n",
            "----------\n",
            "train Loss: 0.0531 Acc: 0.9815\n",
            "val Loss: 0.8201 Acc: 0.8211\n",
            "\n",
            "Epoch 18/39\n",
            "----------\n",
            "train Loss: 0.0489 Acc: 0.9833\n",
            "val Loss: 0.8189 Acc: 0.8240\n",
            "\n",
            "Epoch 19/39\n",
            "----------\n",
            "train Loss: 0.0451 Acc: 0.9849\n",
            "val Loss: 0.8235 Acc: 0.8242\n",
            "\n",
            "Epoch 20/39\n",
            "----------\n",
            "train Loss: 0.0385 Acc: 0.9870\n",
            "val Loss: 0.8517 Acc: 0.8203\n",
            "\n",
            "Epoch 21/39\n",
            "----------\n",
            "train Loss: 0.0364 Acc: 0.9878\n",
            "val Loss: 0.8506 Acc: 0.8216\n",
            "\n",
            "Epoch 22/39\n",
            "----------\n",
            "train Loss: 0.0368 Acc: 0.9873\n",
            "val Loss: 0.8607 Acc: 0.8183\n",
            "\n",
            "Epoch 23/39\n",
            "----------\n",
            "train Loss: 0.0342 Acc: 0.9879\n",
            "val Loss: 0.8591 Acc: 0.8224\n",
            "\n",
            "Epoch 24/39\n",
            "----------\n",
            "train Loss: 0.0314 Acc: 0.9896\n",
            "val Loss: 0.8289 Acc: 0.8307\n",
            "\n",
            "Epoch 25/39\n",
            "----------\n",
            "train Loss: 0.0282 Acc: 0.9900\n",
            "val Loss: 0.8548 Acc: 0.8224\n",
            "\n",
            "Epoch 26/39\n",
            "----------\n",
            "train Loss: 0.0250 Acc: 0.9916\n",
            "val Loss: 0.9114 Acc: 0.8244\n",
            "\n",
            "Epoch 27/39\n",
            "----------\n",
            "train Loss: 0.0270 Acc: 0.9908\n",
            "val Loss: 0.9001 Acc: 0.8237\n",
            "\n",
            "Epoch 28/39\n",
            "----------\n",
            "train Loss: 0.0275 Acc: 0.9905\n",
            "val Loss: 0.9098 Acc: 0.8247\n",
            "\n",
            "Epoch 29/39\n",
            "----------\n",
            "train Loss: 0.0264 Acc: 0.9911\n",
            "val Loss: 0.8944 Acc: 0.8268\n",
            "\n",
            "Epoch 30/39\n",
            "----------\n",
            "train Loss: 0.0143 Acc: 0.9947\n",
            "val Loss: 0.8675 Acc: 0.8309\n",
            "\n",
            "Epoch 31/39\n",
            "----------\n",
            "train Loss: 0.0111 Acc: 0.9967\n",
            "val Loss: 0.8678 Acc: 0.8340\n",
            "\n",
            "Epoch 32/39\n",
            "----------\n",
            "train Loss: 0.0086 Acc: 0.9975\n",
            "val Loss: 0.8533 Acc: 0.8331\n",
            "\n",
            "Epoch 33/39\n",
            "----------\n",
            "train Loss: 0.0069 Acc: 0.9984\n",
            "val Loss: 0.8496 Acc: 0.8351\n",
            "\n",
            "Epoch 34/39\n",
            "----------\n",
            "train Loss: 0.0075 Acc: 0.9977\n",
            "val Loss: 0.8554 Acc: 0.8356\n",
            "\n",
            "Epoch 35/39\n",
            "----------\n",
            "train Loss: 0.0060 Acc: 0.9984\n",
            "val Loss: 0.8432 Acc: 0.8357\n",
            "\n",
            "Epoch 36/39\n",
            "----------\n",
            "train Loss: 0.0057 Acc: 0.9985\n",
            "val Loss: 0.8504 Acc: 0.8365\n",
            "\n",
            "Epoch 37/39\n",
            "----------\n",
            "train Loss: 0.0057 Acc: 0.9985\n",
            "val Loss: 0.8542 Acc: 0.8361\n",
            "\n",
            "Epoch 38/39\n",
            "----------\n",
            "train Loss: 0.0042 Acc: 0.9990\n",
            "val Loss: 0.8590 Acc: 0.8380\n",
            "\n",
            "Epoch 39/39\n",
            "----------\n",
            "train Loss: 0.0042 Acc: 0.9989\n",
            "val Loss: 0.8658 Acc: 0.8360\n",
            "\n",
            "Training complete in 93m 38s\n",
            "Best val Acc: 0.838000\n",
            "<Figure size 2500x400 with 20 Axes>\n",
            "<Figure size 640x480 with 1 Axes>\n",
            "<Figure size 1000x1000 with 1 Axes>\n",
            "<Figure size 640x480 with 1 Axes>\n",
            "<Figure size 1000x1000 with 1 Axes>\n",
            "<Figure size 640x480 with 1 Axes>\n",
            "<Figure size 1000x1000 with 1 Axes>\n",
            "<Figure size 640x480 with 1 Axes>\n",
            "<Figure size 1000x1000 with 1 Axes>\n",
            "<Figure size 640x480 with 1 Axes>\n",
            "<Figure size 1000x1000 with 1 Axes>\n",
            "<Figure size 640x480 with 1 Axes>\n",
            "<Figure size 1000x1000 with 1 Axes>\n"
          ]
        }
      ]
    },
    {
      "cell_type": "code",
      "metadata": {
        "id": "U5oFJeWCi1DF",
        "colab": {
          "base_uri": "https://localhost:8080/"
        },
        "outputId": "fc43c663-f9a1-43c3-9301-5db73d70f594"
      },
      "source": [
        "!python myTorchEvaluator.py --TAG 123 --save_path /content/drive/MyDrive/\"Colab Notebooks\"/MultiModal/MultiModalClassifier-main/TorchClassifier/outputs/ "
      ],
      "execution_count": null,
      "outputs": [
        {
          "output_type": "stream",
          "name": "stdout",
          "text": [
            "1.9.0+cu102\n",
            "Torch Version:  1.9.0+cu102\n",
            "Torchvision Version:  0.10.0+cu102\n",
            "Output path: /content/drive/MyDrive/Colab Notebooks/MultiModal/MultiModalClassifier-main/TorchClassifier/outputs/CIFAR10_resnetmodel1_123\n",
            "Num GPUs: 1\n",
            "0\n",
            "Tesla K80\n",
            "True\n",
            "Files already downloaded and verified\n",
            "Files already downloaded and verified\n",
            "Number of training examples: 50000\n",
            "Number of testing examples: 10000\n",
            "modelpath  /content/drive/MyDrive/Colab Notebooks/MultiModal/MultiModalClassifier-main/TorchClassifier/outputs/CIFAR10_resnetmodel1_123/model_best.pt\n",
            "/usr/local/lib/python3.7/dist-packages/torch/nn/functional.py:718: UserWarning: Named tensors and all their associated APIs are an experimental feature and subject to change. Please do not use them for anything important until they are released as stable. (Triggered internally at  /pytorch/c10/core/TensorImpl.h:1156.)\n",
            "  return torch.max_pool2d(input, kernel_size, stride, padding, dilation, ceil_mode)\n",
            "Test Loss: 0.863020\n",
            "\n",
            "Test Accuracy of airplane: 88% (888/1000)\n",
            "Test Accuracy of automobile: 90% (900/1000)\n",
            "Test Accuracy of  bird: 76% (762/1000)\n",
            "Test Accuracy of   cat: 66% (667/1000)\n",
            "Test Accuracy of  deer: 83% (835/1000)\n",
            "Test Accuracy of   dog: 73% (731/1000)\n",
            "Test Accuracy of  frog: 88% (887/1000)\n",
            "Test Accuracy of horse: 86% (863/1000)\n",
            "Test Accuracy of  ship: 90% (902/1000)\n",
            "Test Accuracy of truck: 88% (888/1000)\n",
            "\n",
            "Test Accuracy (Overall): 83% (8323/10000)\n",
            "Test Loss: 0.864 | Test Acc: 83.22%\n"
          ]
        }
      ]
    },
    {
      "cell_type": "code",
      "metadata": {
        "id": "sGTT06mxybVL"
      },
      "source": [
        ""
      ],
      "execution_count": null,
      "outputs": []
    }
  ]
}